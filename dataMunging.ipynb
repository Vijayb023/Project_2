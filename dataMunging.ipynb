{
 "cells": [
  {
   "cell_type": "code",
   "execution_count": 1,
   "metadata": {},
   "outputs": [],
   "source": [
    "# Dependencies\n",
    "import requests\n",
    "import pandas as pd\n",
    "\n",
    "base_url = \"http://devapi.mygasfeed.com//stations/radius/\""
   ]
  },
  {
   "cell_type": "code",
   "execution_count": 2,
   "metadata": {},
   "outputs": [
    {
     "name": "stdout",
     "output_type": "stream",
     "text": [
      "[['38.349497'], ['-81.633294']]\n"
     ]
    }
   ],
   "source": [
    "cities = [{\"Name\": \"West Virginia\", \"Capital Name\": \"Charleston\", \"Capital Latitude\": \"38.349497\", \"Capital Longitude\": \"-81.633294\"}]\n",
    "\n",
    "names = []\n",
    "lats =[]\n",
    "long = []\n",
    "\n",
    "for d in cities:\n",
    "    lats.append(d[\"Capital Latitude\"])\n",
    "    long.append(d[\"Capital Longitude\"])\n",
    "    names.append(d[\"Name\"])\n",
    "    \n",
    "url_data = [lats, long]\n",
    "print(url_data)"
   ]
  },
  {
   "cell_type": "code",
   "execution_count": null,
   "metadata": {},
   "outputs": [],
   "source": [
    "for d in url_data:\n",
    "    city_response = requests.get(f\"{base_url}{d[0][0]}/{d[1][0]}/50/reg/distance/rfej9napna.json?callback=?\")\n",
    "    print(city_response)"
   ]
  }
 ],
 "metadata": {
  "kernelspec": {
   "display_name": "Python 3",
   "language": "python",
   "name": "python3"
  },
  "language_info": {
   "codemirror_mode": {
    "name": "ipython",
    "version": 3
   },
   "file_extension": ".py",
   "mimetype": "text/x-python",
   "name": "python",
   "nbconvert_exporter": "python",
   "pygments_lexer": "ipython3",
   "version": "3.7.3"
  }
 },
 "nbformat": 4,
 "nbformat_minor": 4
}
